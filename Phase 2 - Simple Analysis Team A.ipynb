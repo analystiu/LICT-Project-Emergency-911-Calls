{
 "cells": [
  {
   "cell_type": "code",
   "execution_count": 1,
   "metadata": {
    "collapsed": true
   },
   "outputs": [],
   "source": [
    "import pandas as pd"
   ]
  },
  {
   "cell_type": "code",
   "execution_count": 2,
   "metadata": {
    "collapsed": false
   },
   "outputs": [],
   "source": [
    "df = pd.read_csv('../Data/911.csv')"
   ]
  },
  {
   "cell_type": "code",
   "execution_count": 4,
   "metadata": {
    "collapsed": false
   },
   "outputs": [
    {
     "data": {
      "text/html": [
       "<div>\n",
       "<table border=\"1\" class=\"dataframe\">\n",
       "  <thead>\n",
       "    <tr style=\"text-align: right;\">\n",
       "      <th></th>\n",
       "      <th>lat</th>\n",
       "      <th>lng</th>\n",
       "      <th>desc</th>\n",
       "      <th>zip</th>\n",
       "      <th>title</th>\n",
       "      <th>timeStamp</th>\n",
       "      <th>twp</th>\n",
       "      <th>addr</th>\n",
       "      <th>e</th>\n",
       "    </tr>\n",
       "  </thead>\n",
       "  <tbody>\n",
       "    <tr>\n",
       "      <th>0</th>\n",
       "      <td>40.297876</td>\n",
       "      <td>-75.581294</td>\n",
       "      <td>REINDEER CT &amp; DEAD END;  NEW HANOVER; Station ...</td>\n",
       "      <td>19525.0</td>\n",
       "      <td>EMS: BACK PAINS/INJURY</td>\n",
       "      <td>2015-12-10 17:10:52</td>\n",
       "      <td>NEW HANOVER</td>\n",
       "      <td>REINDEER CT &amp; DEAD END</td>\n",
       "      <td>1</td>\n",
       "    </tr>\n",
       "    <tr>\n",
       "      <th>1</th>\n",
       "      <td>40.258061</td>\n",
       "      <td>-75.264680</td>\n",
       "      <td>BRIAR PATH &amp; WHITEMARSH LN;  HATFIELD TOWNSHIP...</td>\n",
       "      <td>19446.0</td>\n",
       "      <td>EMS: DIABETIC EMERGENCY</td>\n",
       "      <td>2015-12-10 17:29:21</td>\n",
       "      <td>HATFIELD TOWNSHIP</td>\n",
       "      <td>BRIAR PATH &amp; WHITEMARSH LN</td>\n",
       "      <td>1</td>\n",
       "    </tr>\n",
       "    <tr>\n",
       "      <th>2</th>\n",
       "      <td>40.121182</td>\n",
       "      <td>-75.351975</td>\n",
       "      <td>HAWS AVE; NORRISTOWN; 2015-12-10 @ 14:39:21-St...</td>\n",
       "      <td>19401.0</td>\n",
       "      <td>Fire: GAS-ODOR/LEAK</td>\n",
       "      <td>2015-12-10 14:39:21</td>\n",
       "      <td>NORRISTOWN</td>\n",
       "      <td>HAWS AVE</td>\n",
       "      <td>1</td>\n",
       "    </tr>\n",
       "  </tbody>\n",
       "</table>\n",
       "</div>"
      ],
      "text/plain": [
       "         lat        lng                                               desc  \\\n",
       "0  40.297876 -75.581294  REINDEER CT & DEAD END;  NEW HANOVER; Station ...   \n",
       "1  40.258061 -75.264680  BRIAR PATH & WHITEMARSH LN;  HATFIELD TOWNSHIP...   \n",
       "2  40.121182 -75.351975  HAWS AVE; NORRISTOWN; 2015-12-10 @ 14:39:21-St...   \n",
       "\n",
       "       zip                    title            timeStamp                twp  \\\n",
       "0  19525.0   EMS: BACK PAINS/INJURY  2015-12-10 17:10:52        NEW HANOVER   \n",
       "1  19446.0  EMS: DIABETIC EMERGENCY  2015-12-10 17:29:21  HATFIELD TOWNSHIP   \n",
       "2  19401.0      Fire: GAS-ODOR/LEAK  2015-12-10 14:39:21         NORRISTOWN   \n",
       "\n",
       "                         addr  e  \n",
       "0      REINDEER CT & DEAD END  1  \n",
       "1  BRIAR PATH & WHITEMARSH LN  1  \n",
       "2                    HAWS AVE  1  "
      ]
     },
     "execution_count": 4,
     "metadata": {},
     "output_type": "execute_result"
    }
   ],
   "source": [
    "df.head(3)"
   ]
  },
  {
   "cell_type": "code",
   "execution_count": 5,
   "metadata": {
    "collapsed": false
   },
   "outputs": [
    {
     "data": {
      "text/html": [
       "<div>\n",
       "<table border=\"1\" class=\"dataframe\">\n",
       "  <thead>\n",
       "    <tr style=\"text-align: right;\">\n",
       "      <th></th>\n",
       "      <th>lat</th>\n",
       "      <th>lng</th>\n",
       "      <th>desc</th>\n",
       "      <th>zip</th>\n",
       "      <th>title</th>\n",
       "      <th>timeStamp</th>\n",
       "      <th>twp</th>\n",
       "      <th>addr</th>\n",
       "      <th>e</th>\n",
       "    </tr>\n",
       "  </thead>\n",
       "  <tbody>\n",
       "    <tr>\n",
       "      <th>count</th>\n",
       "      <td>266543.000000</td>\n",
       "      <td>266543.000000</td>\n",
       "      <td>266543</td>\n",
       "      <td>234049.000000</td>\n",
       "      <td>266543</td>\n",
       "      <td>266543</td>\n",
       "      <td>266448</td>\n",
       "      <td>266543</td>\n",
       "      <td>266543.0</td>\n",
       "    </tr>\n",
       "    <tr>\n",
       "      <th>unique</th>\n",
       "      <td>NaN</td>\n",
       "      <td>NaN</td>\n",
       "      <td>266484</td>\n",
       "      <td>NaN</td>\n",
       "      <td>130</td>\n",
       "      <td>257673</td>\n",
       "      <td>68</td>\n",
       "      <td>31293</td>\n",
       "      <td>NaN</td>\n",
       "    </tr>\n",
       "    <tr>\n",
       "      <th>top</th>\n",
       "      <td>NaN</td>\n",
       "      <td>NaN</td>\n",
       "      <td>GERMANTOWN PIKE; WORCESTER; 2017-09-27 @ 17:50...</td>\n",
       "      <td>NaN</td>\n",
       "      <td>Traffic: VEHICLE ACCIDENT -</td>\n",
       "      <td>2016-06-01 16:34:27</td>\n",
       "      <td>LOWER MERION</td>\n",
       "      <td>SHANNONDELL DR &amp; SHANNONDELL BLVD</td>\n",
       "      <td>NaN</td>\n",
       "    </tr>\n",
       "    <tr>\n",
       "      <th>freq</th>\n",
       "      <td>NaN</td>\n",
       "      <td>NaN</td>\n",
       "      <td>4</td>\n",
       "      <td>NaN</td>\n",
       "      <td>62218</td>\n",
       "      <td>6</td>\n",
       "      <td>22886</td>\n",
       "      <td>2659</td>\n",
       "      <td>NaN</td>\n",
       "    </tr>\n",
       "    <tr>\n",
       "      <th>mean</th>\n",
       "      <td>40.159200</td>\n",
       "      <td>-75.316831</td>\n",
       "      <td>NaN</td>\n",
       "      <td>19235.194429</td>\n",
       "      <td>NaN</td>\n",
       "      <td>NaN</td>\n",
       "      <td>NaN</td>\n",
       "      <td>NaN</td>\n",
       "      <td>1.0</td>\n",
       "    </tr>\n",
       "    <tr>\n",
       "      <th>std</th>\n",
       "      <td>0.089112</td>\n",
       "      <td>0.161089</td>\n",
       "      <td>NaN</td>\n",
       "      <td>306.362554</td>\n",
       "      <td>NaN</td>\n",
       "      <td>NaN</td>\n",
       "      <td>NaN</td>\n",
       "      <td>NaN</td>\n",
       "      <td>0.0</td>\n",
       "    </tr>\n",
       "    <tr>\n",
       "      <th>min</th>\n",
       "      <td>30.333596</td>\n",
       "      <td>-95.595595</td>\n",
       "      <td>NaN</td>\n",
       "      <td>17555.000000</td>\n",
       "      <td>NaN</td>\n",
       "      <td>NaN</td>\n",
       "      <td>NaN</td>\n",
       "      <td>NaN</td>\n",
       "      <td>1.0</td>\n",
       "    </tr>\n",
       "    <tr>\n",
       "      <th>25%</th>\n",
       "      <td>40.100055</td>\n",
       "      <td>-75.393304</td>\n",
       "      <td>NaN</td>\n",
       "      <td>19038.000000</td>\n",
       "      <td>NaN</td>\n",
       "      <td>NaN</td>\n",
       "      <td>NaN</td>\n",
       "      <td>NaN</td>\n",
       "      <td>1.0</td>\n",
       "    </tr>\n",
       "    <tr>\n",
       "      <th>50%</th>\n",
       "      <td>40.144296</td>\n",
       "      <td>-75.304635</td>\n",
       "      <td>NaN</td>\n",
       "      <td>19401.000000</td>\n",
       "      <td>NaN</td>\n",
       "      <td>NaN</td>\n",
       "      <td>NaN</td>\n",
       "      <td>NaN</td>\n",
       "      <td>1.0</td>\n",
       "    </tr>\n",
       "    <tr>\n",
       "      <th>75%</th>\n",
       "      <td>40.229008</td>\n",
       "      <td>-75.211812</td>\n",
       "      <td>NaN</td>\n",
       "      <td>19446.000000</td>\n",
       "      <td>NaN</td>\n",
       "      <td>NaN</td>\n",
       "      <td>NaN</td>\n",
       "      <td>NaN</td>\n",
       "      <td>1.0</td>\n",
       "    </tr>\n",
       "    <tr>\n",
       "      <th>max</th>\n",
       "      <td>41.167156</td>\n",
       "      <td>-74.813670</td>\n",
       "      <td>NaN</td>\n",
       "      <td>77316.000000</td>\n",
       "      <td>NaN</td>\n",
       "      <td>NaN</td>\n",
       "      <td>NaN</td>\n",
       "      <td>NaN</td>\n",
       "      <td>1.0</td>\n",
       "    </tr>\n",
       "  </tbody>\n",
       "</table>\n",
       "</div>"
      ],
      "text/plain": [
       "                  lat            lng  \\\n",
       "count   266543.000000  266543.000000   \n",
       "unique            NaN            NaN   \n",
       "top               NaN            NaN   \n",
       "freq              NaN            NaN   \n",
       "mean        40.159200     -75.316831   \n",
       "std          0.089112       0.161089   \n",
       "min         30.333596     -95.595595   \n",
       "25%         40.100055     -75.393304   \n",
       "50%         40.144296     -75.304635   \n",
       "75%         40.229008     -75.211812   \n",
       "max         41.167156     -74.813670   \n",
       "\n",
       "                                                     desc            zip  \\\n",
       "count                                              266543  234049.000000   \n",
       "unique                                             266484            NaN   \n",
       "top     GERMANTOWN PIKE; WORCESTER; 2017-09-27 @ 17:50...            NaN   \n",
       "freq                                                    4            NaN   \n",
       "mean                                                  NaN   19235.194429   \n",
       "std                                                   NaN     306.362554   \n",
       "min                                                   NaN   17555.000000   \n",
       "25%                                                   NaN   19038.000000   \n",
       "50%                                                   NaN   19401.000000   \n",
       "75%                                                   NaN   19446.000000   \n",
       "max                                                   NaN   77316.000000   \n",
       "\n",
       "                              title            timeStamp           twp  \\\n",
       "count                        266543               266543        266448   \n",
       "unique                          130               257673            68   \n",
       "top     Traffic: VEHICLE ACCIDENT -  2016-06-01 16:34:27  LOWER MERION   \n",
       "freq                          62218                    6         22886   \n",
       "mean                            NaN                  NaN           NaN   \n",
       "std                             NaN                  NaN           NaN   \n",
       "min                             NaN                  NaN           NaN   \n",
       "25%                             NaN                  NaN           NaN   \n",
       "50%                             NaN                  NaN           NaN   \n",
       "75%                             NaN                  NaN           NaN   \n",
       "max                             NaN                  NaN           NaN   \n",
       "\n",
       "                                     addr         e  \n",
       "count                              266543  266543.0  \n",
       "unique                              31293       NaN  \n",
       "top     SHANNONDELL DR & SHANNONDELL BLVD       NaN  \n",
       "freq                                 2659       NaN  \n",
       "mean                                  NaN       1.0  \n",
       "std                                   NaN       0.0  \n",
       "min                                   NaN       1.0  \n",
       "25%                                   NaN       1.0  \n",
       "50%                                   NaN       1.0  \n",
       "75%                                   NaN       1.0  \n",
       "max                                   NaN       1.0  "
      ]
     },
     "execution_count": 5,
     "metadata": {},
     "output_type": "execute_result"
    }
   ],
   "source": [
    "df.describe(include = 'all')"
   ]
  },
  {
   "cell_type": "code",
   "execution_count": 6,
   "metadata": {
    "collapsed": false
   },
   "outputs": [
    {
     "data": {
      "text/plain": [
       "(266543, 9)"
      ]
     },
     "execution_count": 6,
     "metadata": {},
     "output_type": "execute_result"
    }
   ],
   "source": [
    "df.shape"
   ]
  },
  {
   "cell_type": "code",
   "execution_count": 9,
   "metadata": {
    "collapsed": false
   },
   "outputs": [
    {
     "data": {
      "text/plain": [
       "Traffic: VEHICLE ACCIDENT -    62218\n",
       "Traffic: DISABLED VEHICLE -    18923\n",
       "Fire: FIRE ALARM               15091\n",
       "EMS: RESPIRATORY EMERGENCY     13503\n",
       "EMS: CARDIAC EMERGENCY         13420\n",
       "EMS: FALL VICTIM               13410\n",
       "EMS: VEHICLE ACCIDENT          10857\n",
       "Traffic: ROAD OBSTRUCTION -     8209\n",
       "EMS: SUBJECT IN PAIN            7503\n",
       "EMS: HEAD INJURY                7048\n",
       "Name: title, dtype: int64"
      ]
     },
     "execution_count": 9,
     "metadata": {},
     "output_type": "execute_result"
    }
   ],
   "source": [
    "df[\"title\"].value_counts().head(10)"
   ]
  },
  {
   "cell_type": "code",
   "execution_count": null,
   "metadata": {
    "collapsed": true
   },
   "outputs": [],
   "source": []
  }
 ],
 "metadata": {
  "kernelspec": {
   "display_name": "Python 2",
   "language": "python",
   "name": "python2"
  },
  "language_info": {
   "codemirror_mode": {
    "name": "ipython",
    "version": 2
   },
   "file_extension": ".py",
   "mimetype": "text/x-python",
   "name": "python",
   "nbconvert_exporter": "python",
   "pygments_lexer": "ipython2",
   "version": "2.7.13"
  }
 },
 "nbformat": 4,
 "nbformat_minor": 2
}
