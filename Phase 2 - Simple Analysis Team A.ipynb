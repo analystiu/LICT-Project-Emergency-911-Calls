{
 "cells": [
  {
   "cell_type": "markdown",
   "metadata": {},
   "source": [
    "# Emergency - 911 Calls Descriptive Statistics Analysis"
   ]
  },
  {
   "cell_type": "markdown",
   "metadata": {},
   "source": [
    "###### This is the descriptive study about Emergency - 911 Calls for Montcoalert city."
   ]
  },
  {
   "cell_type": "markdown",
   "metadata": {},
   "source": [
    "importing necessary library "
   ]
  },
  {
   "cell_type": "code",
   "execution_count": 2,
   "metadata": {
    "collapsed": true
   },
   "outputs": [],
   "source": [
    "import pandas as pd\n",
    "import numpy as np\n",
    "import matplotlib.pyplot as plt\n",
    "from pandas import Series, DataFrame"
   ]
  },
  {
   "cell_type": "markdown",
   "metadata": {},
   "source": [
    "Reading the data"
   ]
  },
  {
   "cell_type": "code",
   "execution_count": 3,
   "metadata": {
    "collapsed": false
   },
   "outputs": [],
   "source": [
    "df = pd.read_csv('../Data/911.csv')\n",
    "df.index = pd.DatetimeIndex(df.timeStamp)"
   ]
  },
  {
   "cell_type": "markdown",
   "metadata": {},
   "source": [
    "Preanting the first 5 rows from the data set."
   ]
  },
  {
   "cell_type": "code",
   "execution_count": 8,
   "metadata": {
    "collapsed": false
   },
   "outputs": [
    {
     "data": {
      "text/html": [
       "<div>\n",
       "<table border=\"1\" class=\"dataframe\">\n",
       "  <thead>\n",
       "    <tr style=\"text-align: right;\">\n",
       "      <th></th>\n",
       "      <th>lat</th>\n",
       "      <th>lng</th>\n",
       "      <th>desc</th>\n",
       "      <th>zip</th>\n",
       "      <th>title</th>\n",
       "      <th>timeStamp</th>\n",
       "      <th>twp</th>\n",
       "      <th>addr</th>\n",
       "      <th>e</th>\n",
       "    </tr>\n",
       "    <tr>\n",
       "      <th>timeStamp</th>\n",
       "      <th></th>\n",
       "      <th></th>\n",
       "      <th></th>\n",
       "      <th></th>\n",
       "      <th></th>\n",
       "      <th></th>\n",
       "      <th></th>\n",
       "      <th></th>\n",
       "      <th></th>\n",
       "    </tr>\n",
       "  </thead>\n",
       "  <tbody>\n",
       "    <tr>\n",
       "      <th>2015-12-10 17:10:52</th>\n",
       "      <td>40.297876</td>\n",
       "      <td>-75.581294</td>\n",
       "      <td>REINDEER CT &amp; DEAD END;  NEW HANOVER; Station ...</td>\n",
       "      <td>19525.0</td>\n",
       "      <td>EMS: BACK PAINS/INJURY</td>\n",
       "      <td>2015-12-10 17:10:52</td>\n",
       "      <td>NEW HANOVER</td>\n",
       "      <td>REINDEER CT &amp; DEAD END</td>\n",
       "      <td>1</td>\n",
       "    </tr>\n",
       "    <tr>\n",
       "      <th>2015-12-10 17:29:21</th>\n",
       "      <td>40.258061</td>\n",
       "      <td>-75.264680</td>\n",
       "      <td>BRIAR PATH &amp; WHITEMARSH LN;  HATFIELD TOWNSHIP...</td>\n",
       "      <td>19446.0</td>\n",
       "      <td>EMS: DIABETIC EMERGENCY</td>\n",
       "      <td>2015-12-10 17:29:21</td>\n",
       "      <td>HATFIELD TOWNSHIP</td>\n",
       "      <td>BRIAR PATH &amp; WHITEMARSH LN</td>\n",
       "      <td>1</td>\n",
       "    </tr>\n",
       "    <tr>\n",
       "      <th>2015-12-10 14:39:21</th>\n",
       "      <td>40.121182</td>\n",
       "      <td>-75.351975</td>\n",
       "      <td>HAWS AVE; NORRISTOWN; 2015-12-10 @ 14:39:21-St...</td>\n",
       "      <td>19401.0</td>\n",
       "      <td>Fire: GAS-ODOR/LEAK</td>\n",
       "      <td>2015-12-10 14:39:21</td>\n",
       "      <td>NORRISTOWN</td>\n",
       "      <td>HAWS AVE</td>\n",
       "      <td>1</td>\n",
       "    </tr>\n",
       "    <tr>\n",
       "      <th>2015-12-10 16:47:36</th>\n",
       "      <td>40.116153</td>\n",
       "      <td>-75.343513</td>\n",
       "      <td>AIRY ST &amp; SWEDE ST;  NORRISTOWN; Station 308A;...</td>\n",
       "      <td>19401.0</td>\n",
       "      <td>EMS: CARDIAC EMERGENCY</td>\n",
       "      <td>2015-12-10 16:47:36</td>\n",
       "      <td>NORRISTOWN</td>\n",
       "      <td>AIRY ST &amp; SWEDE ST</td>\n",
       "      <td>1</td>\n",
       "    </tr>\n",
       "    <tr>\n",
       "      <th>2015-12-10 16:56:52</th>\n",
       "      <td>40.251492</td>\n",
       "      <td>-75.603350</td>\n",
       "      <td>CHERRYWOOD CT &amp; DEAD END;  LOWER POTTSGROVE; S...</td>\n",
       "      <td>NaN</td>\n",
       "      <td>EMS: DIZZINESS</td>\n",
       "      <td>2015-12-10 16:56:52</td>\n",
       "      <td>LOWER POTTSGROVE</td>\n",
       "      <td>CHERRYWOOD CT &amp; DEAD END</td>\n",
       "      <td>1</td>\n",
       "    </tr>\n",
       "  </tbody>\n",
       "</table>\n",
       "</div>"
      ],
      "text/plain": [
       "                           lat        lng  \\\n",
       "timeStamp                                   \n",
       "2015-12-10 17:10:52  40.297876 -75.581294   \n",
       "2015-12-10 17:29:21  40.258061 -75.264680   \n",
       "2015-12-10 14:39:21  40.121182 -75.351975   \n",
       "2015-12-10 16:47:36  40.116153 -75.343513   \n",
       "2015-12-10 16:56:52  40.251492 -75.603350   \n",
       "\n",
       "                                                                  desc  \\\n",
       "timeStamp                                                                \n",
       "2015-12-10 17:10:52  REINDEER CT & DEAD END;  NEW HANOVER; Station ...   \n",
       "2015-12-10 17:29:21  BRIAR PATH & WHITEMARSH LN;  HATFIELD TOWNSHIP...   \n",
       "2015-12-10 14:39:21  HAWS AVE; NORRISTOWN; 2015-12-10 @ 14:39:21-St...   \n",
       "2015-12-10 16:47:36  AIRY ST & SWEDE ST;  NORRISTOWN; Station 308A;...   \n",
       "2015-12-10 16:56:52  CHERRYWOOD CT & DEAD END;  LOWER POTTSGROVE; S...   \n",
       "\n",
       "                         zip                    title            timeStamp  \\\n",
       "timeStamp                                                                    \n",
       "2015-12-10 17:10:52  19525.0   EMS: BACK PAINS/INJURY  2015-12-10 17:10:52   \n",
       "2015-12-10 17:29:21  19446.0  EMS: DIABETIC EMERGENCY  2015-12-10 17:29:21   \n",
       "2015-12-10 14:39:21  19401.0      Fire: GAS-ODOR/LEAK  2015-12-10 14:39:21   \n",
       "2015-12-10 16:47:36  19401.0   EMS: CARDIAC EMERGENCY  2015-12-10 16:47:36   \n",
       "2015-12-10 16:56:52      NaN           EMS: DIZZINESS  2015-12-10 16:56:52   \n",
       "\n",
       "                                   twp                        addr  e  \n",
       "timeStamp                                                              \n",
       "2015-12-10 17:10:52        NEW HANOVER      REINDEER CT & DEAD END  1  \n",
       "2015-12-10 17:29:21  HATFIELD TOWNSHIP  BRIAR PATH & WHITEMARSH LN  1  \n",
       "2015-12-10 14:39:21         NORRISTOWN                    HAWS AVE  1  \n",
       "2015-12-10 16:47:36         NORRISTOWN          AIRY ST & SWEDE ST  1  \n",
       "2015-12-10 16:56:52   LOWER POTTSGROVE    CHERRYWOOD CT & DEAD END  1  "
      ]
     },
     "execution_count": 8,
     "metadata": {},
     "output_type": "execute_result"
    }
   ],
   "source": [
    "df.head(5)"
   ]
  },
  {
   "cell_type": "markdown",
   "metadata": {},
   "source": [
    "##### Descriptive Statistics for all categorical and numarical variables"
   ]
  },
  {
   "cell_type": "code",
   "execution_count": 9,
   "metadata": {
    "collapsed": false
   },
   "outputs": [
    {
     "data": {
      "text/html": [
       "<div>\n",
       "<table border=\"1\" class=\"dataframe\">\n",
       "  <thead>\n",
       "    <tr style=\"text-align: right;\">\n",
       "      <th></th>\n",
       "      <th>lat</th>\n",
       "      <th>lng</th>\n",
       "      <th>zip</th>\n",
       "      <th>e</th>\n",
       "    </tr>\n",
       "  </thead>\n",
       "  <tbody>\n",
       "    <tr>\n",
       "      <th>count</th>\n",
       "      <td>266543.000000</td>\n",
       "      <td>266543.000000</td>\n",
       "      <td>234049.000000</td>\n",
       "      <td>266543.0</td>\n",
       "    </tr>\n",
       "    <tr>\n",
       "      <th>mean</th>\n",
       "      <td>40.159200</td>\n",
       "      <td>-75.316831</td>\n",
       "      <td>19235.194429</td>\n",
       "      <td>1.0</td>\n",
       "    </tr>\n",
       "    <tr>\n",
       "      <th>std</th>\n",
       "      <td>0.089112</td>\n",
       "      <td>0.161089</td>\n",
       "      <td>306.362554</td>\n",
       "      <td>0.0</td>\n",
       "    </tr>\n",
       "    <tr>\n",
       "      <th>min</th>\n",
       "      <td>30.333596</td>\n",
       "      <td>-95.595595</td>\n",
       "      <td>17555.000000</td>\n",
       "      <td>1.0</td>\n",
       "    </tr>\n",
       "    <tr>\n",
       "      <th>25%</th>\n",
       "      <td>40.100055</td>\n",
       "      <td>-75.393304</td>\n",
       "      <td>19038.000000</td>\n",
       "      <td>1.0</td>\n",
       "    </tr>\n",
       "    <tr>\n",
       "      <th>50%</th>\n",
       "      <td>40.144296</td>\n",
       "      <td>-75.304635</td>\n",
       "      <td>19401.000000</td>\n",
       "      <td>1.0</td>\n",
       "    </tr>\n",
       "    <tr>\n",
       "      <th>75%</th>\n",
       "      <td>40.229008</td>\n",
       "      <td>-75.211812</td>\n",
       "      <td>19446.000000</td>\n",
       "      <td>1.0</td>\n",
       "    </tr>\n",
       "    <tr>\n",
       "      <th>max</th>\n",
       "      <td>41.167156</td>\n",
       "      <td>-74.813670</td>\n",
       "      <td>77316.000000</td>\n",
       "      <td>1.0</td>\n",
       "    </tr>\n",
       "  </tbody>\n",
       "</table>\n",
       "</div>"
      ],
      "text/plain": [
       "                 lat            lng            zip         e\n",
       "count  266543.000000  266543.000000  234049.000000  266543.0\n",
       "mean       40.159200     -75.316831   19235.194429       1.0\n",
       "std         0.089112       0.161089     306.362554       0.0\n",
       "min        30.333596     -95.595595   17555.000000       1.0\n",
       "25%        40.100055     -75.393304   19038.000000       1.0\n",
       "50%        40.144296     -75.304635   19401.000000       1.0\n",
       "75%        40.229008     -75.211812   19446.000000       1.0\n",
       "max        41.167156     -74.813670   77316.000000       1.0"
      ]
     },
     "execution_count": 9,
     "metadata": {},
     "output_type": "execute_result"
    }
   ],
   "source": [
    "df.describe()"
   ]
  },
  {
   "cell_type": "markdown",
   "metadata": {},
   "source": [
    "Here lat, lng and zip code have no numerical representation, because they are used for map only. We can't say the meaning of mean value of the variables. Here some of the zip codes are missing. Missing values are represented by NaN"
   ]
  },
  {
   "cell_type": "markdown",
   "metadata": {},
   "source": [
    "###### Variables and numbers of rows in the dataset."
   ]
  },
  {
   "cell_type": "code",
   "execution_count": 42,
   "metadata": {
    "collapsed": false
   },
   "outputs": [
    {
     "data": {
      "text/plain": [
       "(266543, 9)"
      ]
     },
     "execution_count": 42,
     "metadata": {},
     "output_type": "execute_result"
    }
   ],
   "source": [
    "df.shape"
   ]
  },
  {
   "cell_type": "markdown",
   "metadata": {},
   "source": [
    "Total 9 variables and total 266543 rows are available in the dataset."
   ]
  },
  {
   "cell_type": "markdown",
   "metadata": {},
   "source": [
    "###### Different types of Emergency - 911 Calls"
   ]
  },
  {
   "cell_type": "code",
   "execution_count": 10,
   "metadata": {
    "collapsed": false
   },
   "outputs": [
    {
     "data": {
      "text/plain": [
       "Traffic: VEHICLE ACCIDENT -             62218\n",
       "Traffic: DISABLED VEHICLE -             18923\n",
       "Fire: FIRE ALARM                        15091\n",
       "EMS: RESPIRATORY EMERGENCY              13503\n",
       "EMS: CARDIAC EMERGENCY                  13420\n",
       "EMS: FALL VICTIM                        13410\n",
       "EMS: VEHICLE ACCIDENT                   10857\n",
       "Traffic: ROAD OBSTRUCTION -              8209\n",
       "EMS: SUBJECT IN PAIN                     7503\n",
       "EMS: HEAD INJURY                         7048\n",
       "EMS: UNKNOWN MEDICAL EMERGENCY           4791\n",
       "EMS: SYNCOPAL EPISODE                    4582\n",
       "Fire: VEHICLE ACCIDENT                   4554\n",
       "EMS: SEIZURES                            4418\n",
       "EMS: GENERAL WEAKNESS                    4211\n",
       "EMS: ALTERED MENTAL STATUS               3880\n",
       "EMS: ABDOMINAL PAINS                     3846\n",
       "EMS: MEDICAL ALERT ALARM                 3723\n",
       "Fire: FIRE INVESTIGATION                 3681\n",
       "EMS: OVERDOSE                            3416\n",
       "EMS: UNCONSCIOUS SUBJECT                 3384\n",
       "EMS: HEMORRHAGING                        3368\n",
       "EMS: CVA/STROKE                          3331\n",
       "EMS: NAUSEA/VOMITING                     3114\n",
       "Fire: GAS-ODOR/LEAK                      2779\n",
       "EMS: DIABETIC EMERGENCY                  2360\n",
       "Traffic: HAZARDOUS ROAD CONDITIONS -     2332\n",
       "EMS: DIZZINESS                           2153\n",
       "EMS: BACK PAINS/INJURY                   2047\n",
       "Fire: BUILDING FIRE                      1986\n",
       "                                        ...  \n",
       "EMS: PLANE CRASH                            4\n",
       "Fire: MEDICAL ALERT ALARM                   4\n",
       "Fire: DISABLED VEHICLE                      4\n",
       "Fire: PLANE CRASH                           3\n",
       "Fire: STANDBY FOR ANOTHER CO                3\n",
       "Fire: POLICE INFORMATION                    3\n",
       "EMS: WARRANT SERVICE                        3\n",
       "EMS: BOMB DEVICE FOUND                      3\n",
       "Fire: SUBJECT IN PAIN                       2\n",
       "EMS: ARMED SUBJECT                          2\n",
       "EMS: SUSPICIOUS                             2\n",
       "Fire: CARDIAC EMERGENCY                     2\n",
       "Fire: SYNCOPAL EPISODE                      2\n",
       "EMS: TRASH/DUMPSTER FIRE                    2\n",
       "EMS: SUICIDE THREAT                         2\n",
       "EMS: ACTIVE SHOOTER                         2\n",
       "Fire: UNKNOWN MEDICAL EMERGENCY             1\n",
       "Fire: NAUSEA/VOMITING                       1\n",
       "Fire: UNRESPONSIVE SUBJECT                  1\n",
       "Fire: UNCONSCIOUS SUBJECT                   1\n",
       "Fire: RESPIRATORY EMERGENCY                 1\n",
       "Fire: SUICIDE ATTEMPT                       1\n",
       "Fire: PRISONER IN CUSTODY                   1\n",
       "Fire: SUSPICIOUS                            1\n",
       "EMS: HIT + RUN                              1\n",
       "EMS: FIRE POLICE NEEDED                     1\n",
       "Fire: DIABETIC EMERGENCY                    1\n",
       "EMS: DISABLED VEHICLE                       1\n",
       "Fire: ANIMAL COMPLAINT                      1\n",
       "Fire: PUBLIC SERVICE                        1\n",
       "Name: title, dtype: int64"
      ]
     },
     "execution_count": 10,
     "metadata": {},
     "output_type": "execute_result"
    }
   ],
   "source": [
    "df[\"title\"].value_counts()"
   ]
  },
  {
   "cell_type": "code",
   "execution_count": 20,
   "metadata": {
    "collapsed": false
   },
   "outputs": [],
   "source": [
    "reason = np.unique(df['title'])"
   ]
  },
  {
   "cell_type": "code",
   "execution_count": 21,
   "metadata": {
    "collapsed": false
   },
   "outputs": [
    {
     "data": {
      "text/plain": [
       "130"
      ]
     },
     "execution_count": 21,
     "metadata": {},
     "output_type": "execute_result"
    }
   ],
   "source": [
    "reason.size"
   ]
  },
  {
   "cell_type": "markdown",
   "metadata": {},
   "source": [
    "Total 130 different types of Emergency situation happens."
   ]
  },
  {
   "cell_type": "markdown",
   "metadata": {},
   "source": [
    "###### Chart for first ten different types of emergency situation"
   ]
  },
  {
   "cell_type": "code",
   "execution_count": 22,
   "metadata": {
    "collapsed": false,
    "scrolled": false
   },
   "outputs": [
    {
     "data": {
      "image/png": "[encoded data removed]",
      "text/plain": [
       "<matplotlib.figure.Figure at 0x75dee30>"
      ]
     },
     "metadata": {},
     "output_type": "display_data"
    }
   ],
   "source": [
    "df[\"title\"].value_counts().head(10).plot(kind='bar',figsize=(10, 5))\n",
    "plt.show()"
   ]
  },
  {
   "cell_type": "markdown",
   "metadata": {},
   "source": [
    "###### There are 3 groups -- EMS, Fire, Traffic"
   ]
  },
  {
   "cell_type": "code",
   "execution_count": 45,
   "metadata": {
    "collapsed": false
   },
   "outputs": [
    {
     "data": {
      "text/plain": [
       "EMS        133234\n",
       "Traffic     93400\n",
       "Fire        39909\n",
       "Name: type, dtype: int64"
      ]
     },
     "execution_count": 45,
     "metadata": {},
     "output_type": "execute_result"
    }
   ],
   "source": [
    "df['type'] = df[\"title\"].apply(lambda x: x.split(':')[0])\n",
    "df[\"type\"].value_counts()"
   ]
  },
  {
   "cell_type": "markdown",
   "metadata": {},
   "source": [
    "There are total EMS (Emergency Medical Services) calls are 133234 times, Traffic  related calls   93400 times and Fire related calls 39909 times."
   ]
  },
  {
   "cell_type": "markdown",
   "metadata": {},
   "source": [
    "###### Plot of 3 different groups"
   ]
  },
  {
   "cell_type": "code",
   "execution_count": 46,
   "metadata": {
    "collapsed": false
   },
   "outputs": [
    {
     "data": {
      "text/plain": [
       "<matplotlib.axes._subplots.AxesSubplot at 0x20e81070>"
      ]
     },
     "execution_count": 46,
     "metadata": {},
     "output_type": "execute_result"
    },
    {
     "data": {
      "image/png": "[encoded data removed]",
      "text/plain": [
       "<matplotlib.figure.Figure at 0x1d03a790>"
      ]
     },
     "metadata": {},
     "output_type": "display_data"
    }
   ],
   "source": [
    "df[\"type\"].value_counts().plot()"
   ]
  },
  {
   "cell_type": "markdown",
   "metadata": {},
   "source": [
    "Pivot Table"
   ]
  }
 ],
 "metadata": {
  "kernelspec": {
   "display_name": "Python 2",
   "language": "python",
   "name": "python2"
  },
  "language_info": {
   "codemirror_mode": {
    "name": "ipython",
    "version": 2
   },
   "file_extension": ".py",
   "mimetype": "text/x-python",
   "name": "python",
   "nbconvert_exporter": "python",
   "pygments_lexer": "ipython2",
   "version": "2.7.13"
  }
 },
 "nbformat": 4,
 "nbformat_minor": 2
}
